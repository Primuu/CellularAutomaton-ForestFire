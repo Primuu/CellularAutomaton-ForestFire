{
 "cells": [
  {
   "cell_type": "markdown",
   "source": [
    "# Projekt: symulacja automatu komórkowego reprezentującego pożar lasu (P6)\n",
    "## Adam Trentowski - DSwP 1 - 162602\n",
    "\n",
    "> <b>Cel</b>: Automat ma rozpoczynać pracę na losowym rozmieszczeniu elementów reprezentujących stany. \n",
    "Następnie w losowo wybranym miejscu należy zainicjować pożar. Ustalić, że symulacja kończy się, gdy spłonie ostatnie z płonących drzew.\n",
    "Wykorzystać następujące stany (można zdefiniować dodatkowe):\n",
    "• drzewo,\n",
    "• płonace drzewo,\n",
    "• spalone drzewo,\n",
    "• woda.\n",
    "> \n",
    "> Zasady ewolucji, np.:\n",
    "• drzewo staje się płonącym drzewem z prawdopodobieństwem p, jeśli ma w sąsiedztwie płonace drzewo,\n",
    "• płonące drzewo w następnej generacji staje się spalonym drzewem,\n",
    "• spalone drzewo odnawia się po k iteracjach,\n",
    "• samozapłon drzewa następuje z pewnym prawdopodobieństwem (odpowiednio małe),\n",
    "• uwzględnić wodę, która stanowi barierę dla ognia,\n",
    "• uwzględnić wiatr zmieniający prawdopodobieństwa rozprzestrzeniania się pożaru w różnych kierunkach; kierunek powinien zmieniać się co kilka iteracji,\n",
    "• inne – według uznania.\n",
    "> \n",
    "> Uwaga: określone drzewo (ustalona komórka) zapala się w zależności od stanu drzew (komórek) sąsiednich, a nie płonce drzewo zapala drzewa sąsiednie.\n",
    "\n",
    "## Krótki opis\n",
    "Poniższa symulacja pożaru lasu to model pokazujący proces rozprzestrzeniania się ognia w lesie w zależności od różnych czynników (np. wiatru, samozapłonu drzewa, zalesienia). Głównym celem jest wizualizacja, jak ogień może się rozprzestrzeniać w lesie, a także pokazanie jak wpływają na to zmienne środowiskowe.\n",
    "\n",
    "## Metoda\n",
    "Symulacja bazuje na automacie komórkowym, czyli modelu składającym się z siatki komórek, w której każda komórka przyjmuje określony stan. Zmiana stanu komórki w czasie jest uzależniona od jej stanu i stanu jej sąsiadów według określonych powyżej reguł. Poniższy projekt jest automatem komórkowym dwuwymiarowym (z sąsiedztwem Moore'a) o strukturze zamkniętej (krawędzie są traktowane jak woda).\n",
    "* Sąsiedztwo Moore'a – dla danej komórki bierze się pod uwagę jej 8 sąsiadów w układzie 3x3 (więc w tym również przekątne)."
   ],
   "metadata": {
    "collapsed": false
   },
   "id": "bb550fb347ca27"
  },
  {
   "cell_type": "markdown",
   "source": [
    "## Import bibliotek\n",
    "\n",
    "* <b>Python: 3.12.3</b>\n",
    "* <b>NumPy: 2.1.3</b> (instalacja: pip install numpy==2.1.3)\n",
    "* <b>Matplotlib: 3.9.2</b> (instalacja: pip install matplotlib==3.9.2)"
   ],
   "metadata": {
    "collapsed": false
   },
   "id": "33821ebc40938e20"
  },
  {
   "cell_type": "code",
   "outputs": [],
   "source": [
    "%matplotlib notebook\n",
    "from enum import Enum\n",
    "import random\n",
    "import numpy as np\n",
    "import matplotlib.pyplot as plt\n",
    "from matplotlib.animation import FuncAnimation"
   ],
   "metadata": {
    "collapsed": false
   },
   "id": "bb55da0f00b47737",
   "execution_count": null
  },
  {
   "cell_type": "markdown",
   "source": [
    "## Struktura modelu\n",
    "Model lasu składa się z siatki, na której mogą występować następujące \"obiekty leśne\":\n",
    "</br>\n",
    "* <b>WATER</b> (Woda):\n",
    "    Komórka reprezentująca obszar wodny. Nie ulega żadnym zmianom.\n",
    "    Kolor: Niebieski.\n",
    "</br>\n",
    "\n",
    "* <b>TREE</b> (Drzewo):\n",
    "    Rosnące, niezapalone drzewo. Może ulec zapłonowi przez samozapłon lub przez sąsiadujące płonące drzewa z pewnym prawdopodobieństem.\n",
    "    Kolor: Zielony.\n",
    "</br>\n",
    "\n",
    "* <b>BURNING_TREE</b> (Płonące drzewo):\n",
    "    Drzewo, które w danej iteracji płonie. W kolejnej iteracji staje się drzewem spalonym.\n",
    "    Kolor: Czerwony.\n",
    "</br>\n",
    "\n",
    "* <b>BURNT_TREE</b> (Spalone drzewo):\n",
    "    Drzewo, które zostały całkowicie spalone. Po określonym czasie może się odrodzić z pewnym prawdopodobieństem.\n",
    "    Kolor: Czarny.\n",
    "</br>\n",
    "\n",
    "* <b>REBORN_TREE</b> (Odrodzone drzewo):\n",
    "    Drzewo, które odrodziło się po spaleniu. Jest tym samym co zwykłe drzewo (TREE), różni się jedynie kolorem na wizualizacji.\n",
    "    Kolor: Jasno-zielony."
   ],
   "metadata": {
    "collapsed": false
   },
   "id": "8b2f87e090e3deb6"
  },
  {
   "cell_type": "code",
   "outputs": [],
   "source": [
    "class ForestObject(Enum):\n",
    "    WATER = 0\n",
    "    TREE = 1\n",
    "    BURNING_TREE = 2\n",
    "    BURNT_TREE = 3\n",
    "    REBORN_TREE = 4"
   ],
   "metadata": {
    "collapsed": false
   },
   "id": "2d7e2e73955c325f",
   "execution_count": null
  },
  {
   "cell_type": "code",
   "outputs": [],
   "source": [
    "COLOR_MAP = {\n",
    "            ForestObject.WATER.value: [0.07, 0.4, 0.69],          # Niebieski\n",
    "            ForestObject.TREE.value: [0.0, 0.5, 0.0],             # Zielony\n",
    "            ForestObject.BURNING_TREE.value: [0.73, 0.05, 0.04],  # Czerwony\n",
    "            ForestObject.BURNT_TREE.value: [0.04, 0.04, 0.04],    # Czarny\n",
    "            ForestObject.REBORN_TREE.value: [0.0, 0.8, 0.0],      # Jasno-zielony\n",
    "        }"
   ],
   "metadata": {
    "collapsed": false
   },
   "id": "72e1570dee98b3e9",
   "execution_count": null
  },
  {
   "cell_type": "markdown",
   "source": [
    "## Wiatr\n",
    "Wiatr wpływa na prawdopodobieństwo zapłonu od sąsiadujących drzew. </br>\n",
    "W modelu występuje wiatr w 4 kierunkach:\n",
    "* Północnym (N ↑)\n",
    "* Wschodnim (E →)\n",
    "* Południowym (S ↓)\n",
    "* Zachodnim (W ←)\n",
    "</br>\n",
    "\n",
    "Każdy kierunek wiatru ma taki sam wpływ na modyfikację prawdopodobieństwa zapłonu drzewa, różni się jedynie obszar, na który ten wpływ jest nakierowany."
   ],
   "metadata": {
    "collapsed": false
   },
   "id": "b313e7d314ba6a40"
  },
  {
   "cell_type": "code",
   "outputs": [],
   "source": [
    "class Wind(Enum):\n",
    "    N = [[0.25, 0.30, 0.25], \n",
    "         [0.50, 1.00, 0.50], \n",
    "         [1.25, 2.00, 1.25]]\n",
    "    \n",
    "    E = [[1.25, 0.50, 0.25], \n",
    "         [2.00, 1.00, 0.30], \n",
    "         [1.25, 0.50, 0.25]]\n",
    "    \n",
    "    S = [[1.25, 2.00, 1.25], \n",
    "         [0.50, 1.00, 0.50], \n",
    "         [0.25, 0.30, 0.25]]\n",
    "    \n",
    "    W = [[0.25, 0.50, 1.25], \n",
    "         [0.30, 1.00, 2.00], \n",
    "         [0.25, 0.50, 1.25]]"
   ],
   "metadata": {
    "collapsed": false
   },
   "id": "c8cf72491648cd9a",
   "execution_count": null
  },
  {
   "cell_type": "code",
   "outputs": [],
   "source": [
    "WIND_ARROWS = {\n",
    "        'N': '↑',\n",
    "        'E': '→',\n",
    "        'S': '↓',\n",
    "        'W': '←'\n",
    "    }"
   ],
   "metadata": {
    "collapsed": false
   },
   "id": "4447bb163920b90b",
   "execution_count": null
  },
  {
   "cell_type": "markdown",
   "source": [
    "## Implementacja automatu komórkowego\n",
    "Implementacja modelu opiera się na klasie <b>Forest</b>. Podczas tworzenia obiektu tej klasy można zdefiniować następujące parametry środowiskowe:\n",
    "</br>\n",
    "* <b>size</b> (rozmiar lasu) - określa rozmiar siatki (N x M)\n",
    "* <b>afforestation</b> (zalesienie) - określa procent powierzchni siatki, jaka ma być zajmowana przez drzewa\n",
    "* <b>p_ignition</b> (prawdopodobieństwo zapłonu) - określa prawdopodobieństwo zapłonu drzewa od sąsiadującego płonącego drzewa\n",
    "* <b>tree_regeneration_time</b> (czas odrodzenia drzewa) - określa ile co najmniej musi upłynąć iteracji zanim spalone drzewo będzie mogło się odrodzić\n",
    "* <b>p_tree_regeneration</b> (prawdopodobieństwo odrodzenia drzewa) - określa prawdopodobieństwo odrodzenia spalonego drzewa (po upłynięciu tree_regeneration_time iteracji)\n",
    "* <b>p_self_ignition</b> (prawdopodobieństwo samozapłonu) - określa prawdopodobieństwo samozapłonu drzewa\n",
    "* <b>wind_direction</b> (początkowy kierunek wiatru) - określa kierunek wiatru na początku symulacji \n",
    "* <b>wind_change_interval</b> (odstęp czasu między zmianą kierunku wiatru) - określa liczbę iteracji, jaka upływa między zmianami kierunku wiatru\n",
    "</br>\n",
    "\n",
    "Jeśli któryś z powyższych parametrów nie zostanie określony, zostanie zastosowana wartość domyślna (opisana dokładnie w dokumentacji metody \\_\\_init\\_\\_), która została dobrana intuicyjnie na bazie prób i błędów.\n",
    "</br>\n",
    "\n",
    "Poza tym, klasa <b>Forest</b> zawiera również licznik iteracji <i>self.iterations = -10</i> inicjowany z wartością -10. Spowodowane jest to problemem z powiększającym się oknem animacji. Przeskok uniemożliwiał zaobserowowanie kilku pierwszych stanów automatu (dlatego, pierwsze 10 iteracji wykonywane jest \"na pusto\").\n",
    "</br>\n",
    "\n",
    "Klasa <b>Forest</b> zawiera następujące metody:\n",
    "</br>\n",
    "- <b>_ignite()</b> - metoda zmieniająca losowe drzewo w płonące drzewo\n",
    "- <b>update()</b> - metoda odpowiedzialna za generowanie kolejnych stanów automatu. Działanie opiera się na tworzeniu nowej siatki, która powstaje na podstawie aktualnego stanu każdej komórki oraz jej sąsiadów. W trakcie aktualizacji uwzględniane są reguły:\n",
    "  - Reguła zapłonu (zależna od sąsiadów): Drzewo może zapłonąć, jeśli w sąsiedztwie ma płonące drzewo. Prawdopodobieństwo zapłonu jest modyfikowane przez kierunek wiatru.\n",
    "    - Modyfikator - wiatr: Wiatr wpływa na rozprzestrzenianie się ognia, zwiększając lub zmniejszając prawdopodobieństwo zapłonu drzewa w zależności od kierunku.\n",
    "  - Reguła samozapłonu: Istnieje niewielkie prawdopodobieństwo, że drzewo zapali się samo.\n",
    "  - Reguła spalania: Płonące drzewo zmienia się w spalone drzewo w kolejnej iteracji.\n",
    "  - Reguła odrodzenia: Spalone drzewo może się odrodzić po upływie określonego czasu z określonym prawdopodobieństwem.\n",
    "  - Reguła zmiany wiatru: Kierunek wiatru zmienia się losowo co określoną liczbę iteracji.\n",
    "  Wynikowa siatka zastępuje poprzedni stan automatu, a proces powtarza się w kolejnych iteracjach. Ponadto, w iteracji nr. 0 jeśli istnieje drzewo, następi pewny zapłon.\n",
    "- <b>animate(frames)</b> -  metoda tworząca animację kolejnych stanów automatu komórkowego, z parametrem frames, który:\n",
    "  - jeśli nie jest ustawiony: animacja kończy się, gdy wszystkie drzewa przestaną płonąć\n",
    "  - jeśli jest ustawiony: animacja trwa podaną liczbę iteracji\n",
    "  Działanie:\n",
    "  - tworzona jest siatka RGB odpowiadająca stanom komórek\n",
    "  - funkcja wewnętrzna render_frame() aktualizuje kolory siatki i wyświetla tytuł z informacją o bieżącej iteracji i kierunku wiatru\n",
    "  - funkcja wewnętrzna update_animation(frame) generuje nowy stan automatu i sprawdza warunki zakończenia animacji\n",
    "  Animacja jest realizowana przy pomocy FuncAnimation z biblioteki Matplotlib i wyświetlana w oknie graficznym."
   ],
   "metadata": {
    "collapsed": false
   },
   "id": "f67c9819f6d86120"
  },
  {
   "cell_type": "code",
   "outputs": [],
   "source": [
    "class Forest:\n",
    "    def __init__(self, \n",
    "                 size: tuple=(30, 30), \n",
    "                 afforestation: float=80.0, \n",
    "                 p_ignition: float=75.0, \n",
    "                 tree_regeneration_time: int=15, \n",
    "                 p_tree_regeneration: float=80.0, \n",
    "                 p_self_ignition: float=0.005,\n",
    "                 wind_direction: Wind=random.choice(list(Wind)),\n",
    "                 wind_change_interval: int=8):\n",
    "        \"\"\"\n",
    "        Tworzy nowy las z podanymi parametrami.\n",
    "        \n",
    "        :param size: rozmiar lasu (domyślnie (15, 15))\n",
    "        :param afforestation: zalesienie (domyślnie 70%)\n",
    "        :param p_ignition: prawdopodobieństwo zapłonu od sąsiadującego drzewa (domyślnie 75%)\n",
    "        :param tree_regeneration_time: liczba iteracji, po których spalone drzewo się odrodzi (domyślnie 15)\n",
    "        :param p_tree_regeneration: prawdopodobieństwo odrodzenia się drzewa po upłynięciu tree_regeneration_time (domyślnie 80 %)\n",
    "        :param p_self_ignition: prawdopodobieństwo samozapłonu drzewa (domyślnie 0,005%)\n",
    "        :param wind_direction: (początkowy) kierunek wiatru (domyślnie losowy)\n",
    "        :param wind_change_interval: liczba iteracji, po których wiatr zmieni kierunek (domyślnie 8)\n",
    "        \"\"\"\n",
    "        afforestation_p = afforestation / 100\n",
    "        self.p_ignition = p_ignition / 100\n",
    "        self.p_self_ignition = p_self_ignition / 100\n",
    "        self.tree_regeneration_time = tree_regeneration_time\n",
    "        self.p_tree_regeneration = p_tree_regeneration / 100\n",
    "        self.grid = np.random.choice([ForestObject.WATER.value, ForestObject.TREE.value], size=size, p=[1 - afforestation_p, afforestation_p])\n",
    "        self.padded_calendar_grid = np.pad(np.full(size, -1), pad_width=1, mode='constant', constant_values=-1)\n",
    "        self.wind_direction = wind_direction\n",
    "        self.wind_change_interval = wind_change_interval\n",
    "        self.iterations = -10  # początkowy przeskok okiena z animacją nie pozwala na zaobserwowanie początkowego przebiegu symulacji\n",
    "        \n",
    "        \n",
    "    def _ignite(self):\n",
    "        \"\"\"\n",
    "        Wybiera losowy punkt, który jest drzewem i zmienia go w płonące drzewo.\n",
    "        \"\"\"\n",
    "        tree_indexes = np.argwhere(self.grid == ForestObject.TREE.value)\n",
    "        \n",
    "        if len(tree_indexes) > 0:\n",
    "            x, y = random.choice(tree_indexes)\n",
    "            self.grid[x, y] = ForestObject.BURNING_TREE.value\n",
    "    \n",
    "    \n",
    "    def update(self):\n",
    "        \"\"\"\n",
    "        Zasymulowanie kolejnej jednostki czasu (przejście do kolejnego stanu).\n",
    "        W pierwszej iteracji nastąpi zapłon.\n",
    "        \n",
    "        - Płonące drzewa (BURNING_TREE) zmieniają się w spalone drzewa (BURNT_TREE).\n",
    "        - Drzewa (TREE) mogą zapłonąć z prawd. p_ignition jeśli sąsiadują z płonącym drzewem (BURNING_TREE).\n",
    "        \"\"\" \n",
    "        padded_grid = np.pad(self.grid, pad_width=1, mode='constant', constant_values=ForestObject.WATER.value)\n",
    "        new_grid = padded_grid.copy()\n",
    "        wind_modifiers = self.wind_direction.value\n",
    "        \n",
    "        for row in range(1, padded_grid.shape[0] - 1):\n",
    "            for col in range(1, padded_grid.shape[1] - 1):\n",
    "                if self.iterations <= 0:\n",
    "                    continue\n",
    "                \n",
    "                # zapłon od sąsiadującego drzewa (modyfikowany przez wiatr) / samozapłon\n",
    "                if padded_grid[row, col] ==  ForestObject.TREE.value or padded_grid[row, col] == ForestObject.REBORN_TREE.value:\n",
    "                    neighbors = padded_grid[row-1:row+2, col-1:col+2]\n",
    "                    is_on_fire = False\n",
    "                    for i in range(3):\n",
    "                        for j in range(3):\n",
    "                            if neighbors[i, j] == ForestObject.BURNING_TREE.value:\n",
    "                                modified_p_ignition = self.p_ignition * wind_modifiers[i][j]\n",
    "                                if np.random.rand() < modified_p_ignition:\n",
    "                                    new_grid[row, col] = ForestObject.BURNING_TREE.value\n",
    "                                    is_on_fire = True\n",
    "                    if not is_on_fire:\n",
    "                        if np.random.rand() < self.p_self_ignition:\n",
    "                            new_grid[row, col] = ForestObject.BURNING_TREE.value\n",
    "                \n",
    "                # spalenie drzewa\n",
    "                if padded_grid[row, col] == ForestObject.BURNING_TREE.value:\n",
    "                    new_grid[row, col] = ForestObject.BURNT_TREE.value\n",
    "                    self.padded_calendar_grid[row, col] = self.iterations\n",
    "                \n",
    "                # odrodzenie drzewa\n",
    "                if padded_grid[row, col] == ForestObject.BURNT_TREE.value:\n",
    "                    if self.padded_calendar_grid[row, col] != -1 and self.iterations - self.padded_calendar_grid[row, col] >= self.tree_regeneration_time:\n",
    "                        if np.random.rand() < self.p_tree_regeneration:\n",
    "                            new_grid[row, col] = ForestObject.REBORN_TREE.value\n",
    "                        \n",
    "        self.grid = new_grid[1:-1, 1:-1]\n",
    "        \n",
    "        if self.iterations == 0:\n",
    "            self._ignite()\n",
    "            \n",
    "        if self.iterations > 0 and self.iterations % self.wind_change_interval == 0:\n",
    "            self.wind_direction = random.choice(list(Wind))\n",
    "        \n",
    "        self.iterations += 1\n",
    "   \n",
    "   \n",
    "    def animate(self, frames=None):\n",
    "        \"\"\"\n",
    "        Tworzy animację kolejnych stanów lasu.\n",
    "    \n",
    "        :param frames:\n",
    "        - jeśli nie jest ustawione: animacja zakończy się, gdy ostatnie drzewo przestanie płonąć.\n",
    "        - jeśli jest ustawione: animacja będzie trwać podaną liczbę iteracji.\n",
    "        \"\"\"\n",
    "        rgb_grid = np.zeros((*self.grid.shape, 3))\n",
    "    \n",
    "        fig, ax = plt.subplots(figsize=(7, 7))\n",
    "        img = ax.imshow(rgb_grid)\n",
    "        ax.axis('off')\n",
    "        \n",
    "        def render_frame():\n",
    "            for value, color in COLOR_MAP.items():\n",
    "                rgb_grid[self.grid == value] = color\n",
    "                \n",
    "            img.set_data(rgb_grid)\n",
    "            i = self.iterations\n",
    "            i = 0 if i < 0 else i\n",
    "            ax.set_title(f\"Iteracja: {i}, Wiatr: {self.wind_direction.name} {WIND_ARROWS[self.wind_direction.name]}\")\n",
    "        \n",
    "        def update_animation(frame):\n",
    "            if frames is None and self.iterations > 0 and ForestObject.BURNING_TREE.value not in self.grid:\n",
    "                ani.event_source.stop()\n",
    "                return img,\n",
    "            \n",
    "            if frames is not None and self.iterations >= frames:\n",
    "                ani.event_source.stop()\n",
    "                return img,\n",
    "            \n",
    "            self.update()\n",
    "            render_frame()\n",
    "            return img,\n",
    "    \n",
    "        render_frame()\n",
    "    \n",
    "        ani = FuncAnimation(fig, update_animation, frames=frames, interval=50, blit=False, cache_frame_data=False)\n",
    "        plt.show()"
   ],
   "metadata": {
    "collapsed": false
   },
   "id": "ce2d21af5ff21e04",
   "execution_count": null
  },
  {
   "cell_type": "markdown",
   "source": [
    "## Wizualizacja symulacji"
   ],
   "metadata": {
    "collapsed": false
   },
   "id": "55db7af008ee0bf6"
  },
  {
   "cell_type": "code",
   "outputs": [],
   "source": [
    "size = (50, 50)\n",
    "afforestation = 95.0\n",
    "p_ignition = 50.0\n",
    "tree_regeneration_time = 25\n",
    "p_tree_regeneration = 48.0\n",
    "p_self_ignition = 0.003\n",
    "# wind_direction = Wind.N\n",
    "wind_change_interval = 30\n",
    "\n",
    "forest = Forest(\n",
    "    size=size, \n",
    "    afforestation=afforestation, \n",
    "    p_ignition=p_ignition, \n",
    "    tree_regeneration_time=tree_regeneration_time, \n",
    "    p_tree_regeneration=p_tree_regeneration, \n",
    "    p_self_ignition=p_self_ignition, \n",
    "    # wind_direction=wind_direction, \n",
    "    wind_change_interval=wind_change_interval\n",
    ")\n",
    "\n",
    "forest.animate()"
   ],
   "metadata": {
    "collapsed": false
   },
   "id": "337fb16e52643eaf",
   "execution_count": null
  },
  {
   "cell_type": "markdown",
   "source": [
    "## Wnioski\n",
    "W modelu pożaru lasu występuje kilka źródeł losowości:\n",
    "- Losowy zapłon drzew - nie można przewidzieć, które drzewa zapłoną przez płonących sąsiadów, można natomiast stwierdzić, które <b>nie</b> zapłoną przez płonących sąsiadów.\n",
    "- Losowy samozapłon drzew – nie można przewidzieć, które drzewa zapłoną, uniemożliwia możliwość stwierdzenia, które drzewa nie zapłoną.\n",
    "- Losowy wybór kierunku wiatru – wpływa na rozprzestrzenianie się ognia.\n",
    "- Odradzanie się drzew – proces regeneracji nie jest deterministyczny.\n",
    "\n",
    "Z tego powodu nie można przewidzieć przyszłości automatu komórkowego ani określić dokładnego wzorca spalania. Jednocześnie, z powodu losowości, nie można jednoznacznie wskazać źródła pożaru na podstawie finalnego stanu automatu."
   ],
   "metadata": {
    "collapsed": false
   },
   "id": "7216400f009082eb"
  }
 ],
 "metadata": {
  "kernelspec": {
   "display_name": "Python 3",
   "language": "python",
   "name": "python3"
  },
  "language_info": {
   "codemirror_mode": {
    "name": "ipython",
    "version": 2
   },
   "file_extension": ".py",
   "mimetype": "text/x-python",
   "name": "python",
   "nbconvert_exporter": "python",
   "pygments_lexer": "ipython2",
   "version": "2.7.6"
  }
 },
 "nbformat": 4,
 "nbformat_minor": 5
}
